{
 "cells": [
  {
   "cell_type": "code",
   "execution_count": 1,
   "id": "c339a137-6ca3-41c8-af3c-0d453be0c8e3",
   "metadata": {},
   "outputs": [
    {
     "ename": "ModuleNotFoundError",
     "evalue": "No module named 'dotenv'",
     "output_type": "error",
     "traceback": [
      "\u001b[1;31m---------------------------------------------------------------------------\u001b[0m",
      "\u001b[1;31mModuleNotFoundError\u001b[0m                       Traceback (most recent call last)",
      "Input \u001b[1;32mIn [1]\u001b[0m, in \u001b[0;36m<cell line: 2>\u001b[1;34m()\u001b[0m\n\u001b[0;32m      1\u001b[0m \u001b[38;5;28;01mimport\u001b[39;00m \u001b[38;5;21;01mos\u001b[39;00m\n\u001b[1;32m----> 2\u001b[0m \u001b[38;5;28;01mfrom\u001b[39;00m \u001b[38;5;21;01mdotenv\u001b[39;00m \u001b[38;5;28;01mimport\u001b[39;00m load_dotenv\n\u001b[0;32m      4\u001b[0m \u001b[38;5;66;03m# Load .env file\u001b[39;00m\n\u001b[0;32m      5\u001b[0m load_dotenv(\u001b[38;5;124m\"\u001b[39m\u001b[38;5;124mbackend/.env\u001b[39m\u001b[38;5;124m\"\u001b[39m)\n",
      "\u001b[1;31mModuleNotFoundError\u001b[0m: No module named 'dotenv'"
     ]
    }
   ],
   "source": [
    "import os\n",
    "from dotenv import load_dotenv\n",
    "\n",
    "# Load .env file\n",
    "load_dotenv(\"backend/.env\")\n",
    "\n",
    "# Example usage\n",
    "SECRET_KEY = os.getenv(\"SECRET_KEY\")\n",
    "DATABASE_URI = os.getenv(\"DATABASE_URI\")\n",
    "\n",
    "print(\"SECRET_KEY =\", SECRET_KEY)\n",
    "print(\"DATABASE_URI =\", DATABASE_URI)"
   ]
  },
  {
   "cell_type": "code",
   "execution_count": null,
   "id": "3cd6639a-bae0-41b1-9182-a1d9852d2601",
   "metadata": {},
   "outputs": [],
   "source": []
  },
  {
   "cell_type": "code",
   "execution_count": 4,
   "id": "e123c993-31ba-4d4f-9174-2f3098e7d68e",
   "metadata": {},
   "outputs": [],
   "source": [
    "with open(\"C:/New folder/enhanced-nqueens-backend/backend/.env\", \"w\") as f:\n",
    "    f.write(\"SECRET_KEY=my_super_secret_key\\n\")\n",
    "    f.write(\"DATABASE_URI=sqlite:///nqueens.db\\n\")\n"
   ]
  }
 ],
 "metadata": {
  "kernelspec": {
   "display_name": "Python 3 (ipykernel)",
   "language": "python",
   "name": "python3"
  },
  "language_info": {
   "codemirror_mode": {
    "name": "ipython",
    "version": 3
   },
   "file_extension": ".py",
   "mimetype": "text/x-python",
   "name": "python",
   "nbconvert_exporter": "python",
   "pygments_lexer": "ipython3",
   "version": "3.10.9"
  }
 },
 "nbformat": 4,
 "nbformat_minor": 5
}
